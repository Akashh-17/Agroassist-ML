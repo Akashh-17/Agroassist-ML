{
 "cells": [
  {
   "cell_type": "markdown",
   "id": "103fc020",
   "metadata": {},
   "source": [
    "# Crop Model Evaluation and Improvement\n",
    "This notebook compares multiple models, performs lightweight hyperparameter tuning, evaluates on a held-out test set, saves figures/reports, and persists the best model for downstream usage (e.g., Streamlit)."
   ]
  },
  {
   "cell_type": "code",
   "execution_count": 17,
   "id": "2454954c",
   "metadata": {},
   "outputs": [
    {
     "name": "stdout",
     "output_type": "stream",
     "text": [
      "Project root: c:\\Users\\Snehal\\Agroassist-ML\n",
      "sys.path[0]: c:\\Users\\Snehal\\Agroassist-ML\n",
      "Python: 3.13.3 (tags/v3.13.3:6280bb5, Apr  8 2025, 14:47:33) [MSC v.1943 64 bit (AMD64)]\n",
      "OS: Windows-11-10.0.22621-SP0\n",
      "NumPy: 2.3.3\n",
      "Pandas: 2.3.3\n",
      "scikit-learn: 1.7.2\n",
      "xgboost: 3.0.5\n",
      "Baseline artifacts missing: None\n"
     ]
    }
   ],
   "source": [
    "# 1) Config: paths, seeding, environment checks\n",
    "from pathlib import Path\n",
    "import sys, platform, importlib\n",
    "import json, time, datetime\n",
    "import numpy as np, pandas as pd\n",
    "from sklearn.utils import check_random_state\n",
    "\n",
    "# Resolve project root robustly when running in notebook or as script\n",
    "NB_PATH = Path(__file__).resolve() if '__file__' in globals() else (Path.cwd() / '03_crop_model_eval.ipynb')\n",
    "PROJECT_ROOT = NB_PATH.parent.parent\n",
    "DATA_PATH = PROJECT_ROOT / 'data' / 'Crop_recommendation.csv'\n",
    "MODELS_DIR = PROJECT_ROOT / 'models'\n",
    "FIGURES_DIR = PROJECT_ROOT / 'figures'\n",
    "RANDOM_STATE = 42\n",
    "\n",
    "# Ensure repo root on sys.path so `src` is importable\n",
    "if str(PROJECT_ROOT) not in sys.path:\n",
    "    sys.path.insert(0, str(PROJECT_ROOT))\n",
    "print('Project root:', PROJECT_ROOT)\n",
    "print('sys.path[0]:', sys.path[0])\n",
    "\n",
    "for d in [MODELS_DIR, FIGURES_DIR, PROJECT_ROOT / 'src']:\n",
    "    d.mkdir(parents=True, exist_ok=True)\n",
    "print('Python:', sys.version)\n",
    "print('OS:', platform.platform())\n",
    "print('NumPy:', np.__version__)\n",
    "print('Pandas:', pd.__version__)\n",
    "try:\n",
    "    import sklearn; print('scikit-learn:', sklearn.__version__)\n",
    "except Exception as e:\n",
    "    print('scikit-learn not available:', e)\n",
    "try:\n",
    "    import xgboost as xgb; print('xgboost:', xgb.__version__)\n",
    "except Exception as e:\n",
    "    xgb = None; print('xgboost not available:', e)\n",
    "\n",
    "# Verify baseline artifacts\n",
    "required = ['crop_model.joblib','crop_scaler.joblib','crop_labelencoder.joblib']\n",
    "missing = [f for f in required if not (MODELS_DIR/f).exists()]\n",
    "print('Baseline artifacts missing:' , missing if missing else 'None')"
   ]
  },
  {
   "cell_type": "code",
   "execution_count": 18,
   "id": "164794fe",
   "metadata": {},
   "outputs": [],
   "source": [
    "# 2) Imports\n",
    "import matplotlib.pyplot as plt\n",
    "import seaborn as sns\n",
    "import joblib\n",
    "from sklearn.model_selection import train_test_split, StratifiedKFold, GridSearchCV, RandomizedSearchCV\n",
    "from sklearn.metrics import accuracy_score, precision_score, recall_score, f1_score, classification_report, ConfusionMatrixDisplay\n",
    "from sklearn.preprocessing import StandardScaler, LabelEncoder\n",
    "from sklearn.pipeline import Pipeline\n",
    "from sklearn.inspection import permutation_importance\n",
    "from sklearn.ensemble import RandomForestClassifier\n",
    "from sklearn.svm import SVC\n",
    "from sklearn.neighbors import KNeighborsClassifier"
   ]
  },
  {
   "cell_type": "code",
   "execution_count": 19,
   "id": "527210bc",
   "metadata": {},
   "outputs": [
    {
     "name": "stdout",
     "output_type": "stream",
     "text": [
      "Figures dir: c:\\Users\\Snehal\\Agroassist-ML\\figures\n"
     ]
    }
   ],
   "source": [
    "# 3) Ensure directories exist (already ensured above)\n",
    "for d in [MODELS_DIR, FIGURES_DIR]:\n",
    "    d.mkdir(parents=True, exist_ok=True)\n",
    "print('Figures dir:', FIGURES_DIR)"
   ]
  },
  {
   "cell_type": "code",
   "execution_count": 20,
   "id": "067b1ace",
   "metadata": {},
   "outputs": [
    {
     "name": "stdout",
     "output_type": "stream",
     "text": [
      "Data shape: (2200, 8)\n",
      "N                int64\n",
      "P                int64\n",
      "K                int64\n",
      "temperature    float64\n",
      "humidity       float64\n",
      "ph             float64\n",
      "rainfall       float64\n",
      "label           object\n",
      "dtype: object\n",
      "    N   P   K  temperature   humidity        ph    rainfall label\n",
      "0  90  42  43    20.879744  82.002744  6.502985  202.935536  rice\n",
      "1  85  58  41    21.770462  80.319644  7.038096  226.655537  rice\n",
      "2  60  55  44    23.004459  82.320763  7.840207  263.964248  rice\n",
      "Train/Test: (1760, 7) (440, 7)\n"
     ]
    }
   ],
   "source": [
    "# 4) Load dataset and basic EDA checks\n",
    "df = pd.read_csv(DATA_PATH)\n",
    "print('Data shape:', df.shape)\n",
    "print(df.dtypes)\n",
    "print(df.head(3))\n",
    "\n",
    "target_col = 'label'\n",
    "feature_cols = [c for c in df.columns if c != target_col]\n",
    "X = df[feature_cols].copy()\n",
    "y = df[target_col].astype(str).str.strip().str.lower()\n",
    "num_cols = list(X.select_dtypes(include=[np.number]).columns)\n",
    "X = X[num_cols]  # ensure numeric-only for models\n",
    "\n",
    "# 5) Train/test split (stratified)\n",
    "X_train, X_test, y_train_raw, y_test_raw = train_test_split(\n",
    "    X, y, test_size=0.2, stratify=y, random_state=RANDOM_STATE)\n",
    "print('Train/Test:', X_train.shape, X_test.shape)"
   ]
  },
  {
   "cell_type": "code",
   "execution_count": 21,
   "id": "6e05823b",
   "metadata": {},
   "outputs": [
    {
     "name": "stderr",
     "output_type": "stream",
     "text": [
      "c:\\Users\\Snehal\\Agroassist-ML\\venv\\Lib\\site-packages\\sklearn\\utils\\validation.py:2742: UserWarning: X has feature names, but StandardScaler was fitted without feature names\n",
      "  warnings.warn(\n",
      "c:\\Users\\Snehal\\Agroassist-ML\\venv\\Lib\\site-packages\\sklearn\\utils\\validation.py:2742: UserWarning: X has feature names, but StandardScaler was fitted without feature names\n",
      "  warnings.warn(\n"
     ]
    },
    {
     "name": "stdout",
     "output_type": "stream",
     "text": [
      "{'accuracy': 0.9954545454545455, 'precision': 0.9956709956709957, 'recall': 0.9954545454545454, 'f1_macro': 0.9954517027687758}\n",
      "Saved c:\\Users\\Snehal\\Agroassist-ML\\figures\\crop_baseline_confusion.png\n",
      "Saved baseline report\n",
      "Saved c:\\Users\\Snehal\\Agroassist-ML\\figures\\crop_baseline_confusion.png\n",
      "Saved baseline report\n"
     ]
    },
    {
     "data": {
      "image/png": "[encoded data removed]",
      "text/plain": [
       "<Figure size 800x600 with 2 Axes>"
      ]
     },
     "metadata": {},
     "output_type": "display_data"
    }
   ],
   "source": [
    "# 6) Load existing artifacts and baseline evaluation\n",
    "from pathlib import Path\n",
    "import joblib\n",
    "scaler = joblib.load(MODELS_DIR/'crop_scaler.joblib')\n",
    "labeler = joblib.load(MODELS_DIR/'crop_labelencoder.joblib')\n",
    "baseline_model = joblib.load(MODELS_DIR/'crop_model.joblib')\n",
    "\n",
    "# Encode targets (fit/transform already done in training; we only transform here)\n",
    "y_train = labeler.transform(y_train_raw)\n",
    "y_test = labeler.transform(y_test_raw)\n",
    "\n",
    "# Align columns with scaler's expectation if present\n",
    "if hasattr(scaler, 'feature_names_in_'):\n",
    "    X_train = X_train[scaler.feature_names_in_]\n",
    "    X_test = X_test[scaler.feature_names_in_]\n",
    "\n",
    "X_train_t = scaler.transform(X_train)\n",
    "X_test_t = scaler.transform(X_test)\n",
    "\n",
    "y_pred_base = baseline_model.predict(X_test_t)\n",
    "acc = accuracy_score(y_test, y_pred_base)\n",
    "prec = precision_score(y_test, y_pred_base, average='macro', zero_division=0)\n",
    "rec = recall_score(y_test, y_pred_base, average='macro', zero_division=0)\n",
    "f1 = f1_score(y_test, y_pred_base, average='macro', zero_division=0)\n",
    "print({'accuracy':acc, 'precision':prec, 'recall':rec, 'f1_macro':f1})\n",
    "\n",
    "# Confusion matrix and report\n",
    "fig, ax = plt.subplots(figsize=(8,6))\n",
    "ConfusionMatrixDisplay.from_predictions(y_test, y_pred_base, ax=ax)\n",
    "fig.tight_layout()\n",
    "conf_path = FIGURES_DIR / 'crop_baseline_confusion.png'\n",
    "fig.savefig(conf_path)\n",
    "print('Saved', conf_path)\n",
    "\n",
    "report_txt = classification_report(y_test, y_pred_base, target_names=labeler.classes_)\n",
    "(FIGURES_DIR/'crop_baseline_report.txt').write_text(report_txt)\n",
    "print('Saved baseline report')"
   ]
  },
  {
   "cell_type": "code",
   "execution_count": 22,
   "id": "93bd9a56",
   "metadata": {},
   "outputs": [],
   "source": [
    "# 7) Metric helpers and plotting utilities\n",
    "def evaluate_model(estimator, X_train, y_train, X_test, y_test):\n",
    "    start = time.time()\n",
    "    estimator.fit(X_train, y_train)\n",
    "    y_pred = estimator.predict(X_test)\n",
    "    metrics = {\n",
    "        'accuracy': accuracy_score(y_test, y_pred),\n",
    "        'precision': precision_score(y_test, y_pred, average='macro', zero_division=0),\n",
    "        'recall': recall_score(y_test, y_pred, average='macro', zero_division=0),\n",
    "        'f1_macro': f1_score(y_test, y_pred, average='macro', zero_division=0),\n",
    "        'elapsed_sec': time.time()-start,\n",
    "    }\n",
    "    return metrics, y_pred\n",
    "\n",
    "def plot_confusion(y_true, y_pred, labels, title, out_path):\n",
    "    fig, ax = plt.subplots(figsize=(8,6))\n",
    "    ConfusionMatrixDisplay.from_predictions(y_true, y_pred, display_labels=labels, ax=ax)\n",
    "    ax.set_title(title)\n",
    "    fig.tight_layout()\n",
    "    fig.savefig(out_path)\n",
    "    plt.close(fig)\n",
    "\n",
    "def save_report(y_true, y_pred, labels, out_path):\n",
    "    rep = classification_report(y_true, y_pred, target_names=labels)\n",
    "    Path(out_path).write_text(rep)"
   ]
  },
  {
   "cell_type": "code",
   "execution_count": 23,
   "id": "9afe420e",
   "metadata": {},
   "outputs": [
    {
     "data": {
      "text/plain": [
       "['rf', 'svm', 'knn', 'xgb']"
      ]
     },
     "execution_count": 23,
     "metadata": {},
     "output_type": "execute_result"
    }
   ],
   "source": [
    "# 8) Build model pipelines (RF, SVM, XGB, KNN)\n",
    "from sklearn.compose import ColumnTransformer\n",
    "from sklearn.pipeline import Pipeline\n",
    "num_features = list(X_train.columns)\n",
    "preprocess_pipe = ('scale', StandardScaler())\n",
    "\n",
    "models = {}\n",
    "models['rf'] = ('rf', RandomForestClassifier(random_state=RANDOM_STATE))\n",
    "models['svm'] = ('svc', SVC(probability=True, random_state=RANDOM_STATE))\n",
    "models['knn'] = ('knn', KNeighborsClassifier())\n",
    "if xgb is not None:\n",
    "    models['xgb'] = ('xgb', xgb.XGBClassifier(random_state=RANDOM_STATE, n_estimators=200, tree_method='hist', eval_metric='mlogloss'))\n",
    "\n",
    "pipelines = {}\n",
    "for key, (name, estimator) in models.items():\n",
    "    if key in ['svm','knn']:\n",
    "        pipelines[key] = Pipeline([('scaler', StandardScaler()), (name, estimator)])\n",
    "    else:\n",
    "        pipelines[key] = Pipeline([(name, estimator)])\n",
    "list(pipelines.keys())"
   ]
  },
  {
   "cell_type": "code",
   "execution_count": 24,
   "id": "4d89f481",
   "metadata": {},
   "outputs": [],
   "source": [
    "# 9) Define hyperparameter search spaces (lists used for RandomizedSearchCV)\n",
    "param_spaces = {\n",
    "    'rf': {\n",
    "        'rf__n_estimators': [100, 200, 300, 400],\n",
    "        'rf__max_depth': [None, 10, 20, 30],\n",
    "        'rf__min_samples_split': [2, 5, 10],\n",
    "        'rf__min_samples_leaf': [1, 2, 4],\n",
    "    },\n",
    "    'svm': {\n",
    "        'scaler__with_mean': [True],\n",
    "        'scaler__with_std': [True],\n",
    "        'svc__C': [0.1, 1, 3, 10],\n",
    "        'svc__gamma': ['scale', 'auto'],\n",
    "        'svc__kernel': ['rbf', 'poly'],\n",
    "    },\n",
    "    'knn': {\n",
    "        'scaler__with_mean': [True],\n",
    "        'scaler__with_std': [True],\n",
    "        'knn__n_neighbors': [3,5,7,9,11],\n",
    "        'knn__weights': ['uniform', 'distance'],\n",
    "        'knn__p': [1,2],\n",
    "    },\n",
    "}\n",
    "if 'xgb' in pipelines:\n",
    "    param_spaces['xgb'] = {\n",
    "        'xgb__n_estimators': [100, 200, 400],\n",
    "        'xgb__max_depth': [3, 5, 8],\n",
    "        'xgb__learning_rate': [0.05, 0.1, 0.2],\n",
    "        'xgb__subsample': [0.7, 0.9, 1.0],\n",
    "        'xgb__colsample_bytree': [0.7, 0.9, 1.0],\n",
    "    }"
   ]
  },
  {
   "cell_type": "code",
   "execution_count": 25,
   "id": "c1504765",
   "metadata": {},
   "outputs": [
    {
     "name": "stdout",
     "output_type": "stream",
     "text": [
      "Fitting 3 folds for each of 12 candidates, totalling 36 fits\n",
      "[BEST] rf: {'rf__n_estimators': 300, 'rf__min_samples_split': 5, 'rf__min_samples_leaf': 1, 'rf__max_depth': 20} score: 0.9925795497320032\n",
      "[BEST] rf: {'rf__n_estimators': 300, 'rf__min_samples_split': 5, 'rf__min_samples_leaf': 1, 'rf__max_depth': 20} score: 0.9925795497320032\n",
      "Fitting 3 folds for each of 10 candidates, totalling 30 fits\n",
      "Fitting 3 folds for each of 10 candidates, totalling 30 fits\n",
      "[BEST] svm: {'svc__kernel': 'rbf', 'svc__gamma': 'scale', 'svc__C': 3, 'scaler__with_std': True, 'scaler__with_mean': True} score: 0.9828941114696318\n",
      "[BEST] svm: {'svc__kernel': 'rbf', 'svc__gamma': 'scale', 'svc__C': 3, 'scaler__with_std': True, 'scaler__with_mean': True} score: 0.9828941114696318\n",
      "Fitting 3 folds for each of 11 candidates, totalling 33 fits\n",
      "Fitting 3 folds for each of 11 candidates, totalling 33 fits\n",
      "[BEST] knn: {'scaler__with_std': True, 'scaler__with_mean': True, 'knn__weights': 'distance', 'knn__p': 1, 'knn__n_neighbors': 5} score: 0.9731894889984339\n",
      "Fitting 3 folds for each of 12 candidates, totalling 36 fits\n",
      "[BEST] knn: {'scaler__with_std': True, 'scaler__with_mean': True, 'knn__weights': 'distance', 'knn__p': 1, 'knn__n_neighbors': 5} score: 0.9731894889984339\n",
      "Fitting 3 folds for each of 12 candidates, totalling 36 fits\n",
      "[BEST] xgb: {'xgb__subsample': 0.7, 'xgb__n_estimators': 100, 'xgb__max_depth': 8, 'xgb__learning_rate': 0.1, 'xgb__colsample_bytree': 0.7} score: 0.992040198391727\n",
      "[BEST] xgb: {'xgb__subsample': 0.7, 'xgb__n_estimators': 100, 'xgb__max_depth': 8, 'xgb__learning_rate': 0.1, 'xgb__colsample_bytree': 0.7} score: 0.992040198391727\n"
     ]
    },
    {
     "data": {
      "text/html": [
       "<div>\n",
       "<style scoped>\n",
       "    .dataframe tbody tr th:only-of-type {\n",
       "        vertical-align: middle;\n",
       "    }\n",
       "\n",
       "    .dataframe tbody tr th {\n",
       "        vertical-align: top;\n",
       "    }\n",
       "\n",
       "    .dataframe thead th {\n",
       "        text-align: right;\n",
       "    }\n",
       "</style>\n",
       "<table border=\"1\" class=\"dataframe\">\n",
       "  <thead>\n",
       "    <tr style=\"text-align: right;\">\n",
       "      <th></th>\n",
       "      <th>model</th>\n",
       "      <th>cv_score</th>\n",
       "      <th>accuracy</th>\n",
       "      <th>precision</th>\n",
       "      <th>recall</th>\n",
       "      <th>f1_macro</th>\n",
       "      <th>elapsed_sec</th>\n",
       "      <th>best_params</th>\n",
       "    </tr>\n",
       "  </thead>\n",
       "  <tbody>\n",
       "    <tr>\n",
       "      <th>0</th>\n",
       "      <td>rf</td>\n",
       "      <td>0.992580</td>\n",
       "      <td>0.995455</td>\n",
       "      <td>0.995671</td>\n",
       "      <td>0.995455</td>\n",
       "      <td>0.995452</td>\n",
       "      <td>3.001989</td>\n",
       "      <td>{'rf__n_estimators': 300, 'rf__min_samples_spl...</td>\n",
       "    </tr>\n",
       "    <tr>\n",
       "      <th>3</th>\n",
       "      <td>xgb</td>\n",
       "      <td>0.992040</td>\n",
       "      <td>0.993182</td>\n",
       "      <td>0.993703</td>\n",
       "      <td>0.993182</td>\n",
       "      <td>0.993230</td>\n",
       "      <td>3.979068</td>\n",
       "      <td>{'xgb__subsample': 0.7, 'xgb__n_estimators': 1...</td>\n",
       "    </tr>\n",
       "    <tr>\n",
       "      <th>1</th>\n",
       "      <td>svm</td>\n",
       "      <td>0.982894</td>\n",
       "      <td>0.988636</td>\n",
       "      <td>0.989266</td>\n",
       "      <td>0.988636</td>\n",
       "      <td>0.988622</td>\n",
       "      <td>0.577108</td>\n",
       "      <td>{'svc__kernel': 'rbf', 'svc__gamma': 'scale', ...</td>\n",
       "    </tr>\n",
       "    <tr>\n",
       "      <th>2</th>\n",
       "      <td>knn</td>\n",
       "      <td>0.973189</td>\n",
       "      <td>0.981818</td>\n",
       "      <td>0.982348</td>\n",
       "      <td>0.981818</td>\n",
       "      <td>0.981690</td>\n",
       "      <td>0.033952</td>\n",
       "      <td>{'scaler__with_std': True, 'scaler__with_mean'...</td>\n",
       "    </tr>\n",
       "  </tbody>\n",
       "</table>\n",
       "</div>"
      ],
      "text/plain": [
       "  model  cv_score  accuracy  precision    recall  f1_macro  elapsed_sec  \\\n",
       "0    rf  0.992580  0.995455   0.995671  0.995455  0.995452     3.001989   \n",
       "3   xgb  0.992040  0.993182   0.993703  0.993182  0.993230     3.979068   \n",
       "1   svm  0.982894  0.988636   0.989266  0.988636  0.988622     0.577108   \n",
       "2   knn  0.973189  0.981818   0.982348  0.981818  0.981690     0.033952   \n",
       "\n",
       "                                         best_params  \n",
       "0  {'rf__n_estimators': 300, 'rf__min_samples_spl...  \n",
       "3  {'xgb__subsample': 0.7, 'xgb__n_estimators': 1...  \n",
       "1  {'svc__kernel': 'rbf', 'svc__gamma': 'scale', ...  \n",
       "2  {'scaler__with_std': True, 'scaler__with_mean'...  "
      ]
     },
     "metadata": {},
     "output_type": "display_data"
    }
   ],
   "source": [
    "# 10) Run hyperparameter tuning and capture CV results\n",
    "cv = StratifiedKFold(n_splits=3, shuffle=True, random_state=RANDOM_STATE)\n",
    "scoring = 'f1_macro'\n",
    "results = []\n",
    "best_estimators = {}\n",
    "\n",
    "for key, pipe in pipelines.items():\n",
    "    space = param_spaces.get(key, {})\n",
    "    if not space:\n",
    "        # Fit without tuning\n",
    "        print(f'[INFO] No search space for {key}, fitting directly...')\n",
    "        metrics_, _ = evaluate_model(pipe, X_train, y_train, X_test, y_test)\n",
    "        best_estimators[key] = pipe.fit(X_train, y_train)\n",
    "        results.append({'model': key, 'cv_score': None, **metrics_})\n",
    "        continue\n",
    "    search = RandomizedSearchCV(pipe, space, n_iter=min(12, sum(len(v) for v in space.values())),\n",
    "                                scoring=scoring, cv=cv, n_jobs=-1, random_state=RANDOM_STATE, verbose=1)\n",
    "    search.fit(X_train, y_train)\n",
    "    best_estimators[key] = search.best_estimator_\n",
    "    print(f'[BEST] {key}:', search.best_params_, 'score:', search.best_score_)\n",
    "    metrics_, _ = evaluate_model(search.best_estimator_, X_train, y_train, X_test, y_test)\n",
    "    results.append({'model': key, 'cv_score': search.best_score_, **metrics_, 'best_params': search.best_params_})\n",
    "\n",
    "results_df = pd.DataFrame(results).sort_values(by=['f1_macro','accuracy'], ascending=False)\n",
    "display(results_df)"
   ]
  },
  {
   "cell_type": "code",
   "execution_count": 26,
   "id": "19ebdece",
   "metadata": {},
   "outputs": [
    {
     "name": "stdout",
     "output_type": "stream",
     "text": [
      "[TEST] rf {'model': 'rf', 'accuracy': 0.9954545454545455, 'precision': 0.9956709956709957, 'recall': 0.9954545454545454, 'f1_macro': 0.9954517027687758}\n",
      "[TEST] svm {'model': 'svm', 'accuracy': 0.9886363636363636, 'precision': 0.9892660369933097, 'recall': 0.9886363636363636, 'f1_macro': 0.9886221288339389}\n",
      "[TEST] svm {'model': 'svm', 'accuracy': 0.9886363636363636, 'precision': 0.9892660369933097, 'recall': 0.9886363636363636, 'f1_macro': 0.9886221288339389}\n",
      "[TEST] knn {'model': 'knn', 'accuracy': 0.9818181818181818, 'precision': 0.9823479152426521, 'recall': 0.9818181818181817, 'f1_macro': 0.9816900365359928}\n",
      "[TEST] knn {'model': 'knn', 'accuracy': 0.9818181818181818, 'precision': 0.9823479152426521, 'recall': 0.9818181818181817, 'f1_macro': 0.9816900365359928}\n",
      "[TEST] xgb {'model': 'xgb', 'accuracy': 0.9931818181818182, 'precision': 0.9937032664305392, 'recall': 0.993181818181818, 'f1_macro': 0.9932303468888836}\n",
      "[TEST] xgb {'model': 'xgb', 'accuracy': 0.9931818181818182, 'precision': 0.9937032664305392, 'recall': 0.993181818181818, 'f1_macro': 0.9932303468888836}\n"
     ]
    }
   ],
   "source": [
    "# 11) Evaluate tuned models on test set and save artifacts\n",
    "labels = list(range(len(labeler.classes_)))\n",
    "for key, est in best_estimators.items():\n",
    "    y_pred = est.predict(X_test)\n",
    "    m = {\n",
    "        'model': key,\n",
    "        'accuracy': accuracy_score(y_test, y_pred),\n",
    "        'precision': precision_score(y_test, y_pred, average='macro', zero_division=0),\n",
    "        'recall': recall_score(y_test, y_pred, average='macro', zero_division=0),\n",
    "        'f1_macro': f1_score(y_test, y_pred, average='macro', zero_division=0),\n",
    "    }\n",
    "    print('[TEST]', key, m)\n",
    "    # Confusion\n",
    "    out_png = FIGURES_DIR / f'confusion_{key}.png'\n",
    "    plot_confusion(y_test, y_pred, labeler.classes_, f'Confusion: {key}', out_png)\n",
    "    # Report\n",
    "    out_txt = FIGURES_DIR / f'report_{key}.txt'\n",
    "    save_report(y_test, y_pred, labeler.classes_, out_txt)"
   ]
  },
  {
   "cell_type": "code",
   "execution_count": 27,
   "id": "22039385",
   "metadata": {},
   "outputs": [
    {
     "name": "stdout",
     "output_type": "stream",
     "text": [
      "Saved best model: rf -> c:\\Users\\Snehal\\Agroassist-ML\\models\\crop_best_model.joblib\n",
      "Saved best model metadata\n"
     ]
    }
   ],
   "source": [
    "# 12) Select and persist best model\n",
    "best_key = results_df.iloc[0]['model'] if not results_df.empty else max(best_estimators.keys(), key=lambda k: 0)\n",
    "best_model = best_estimators[best_key]\n",
    "best_path = MODELS_DIR / 'crop_best_model.joblib'\n",
    "joblib.dump(best_model, best_path)\n",
    "print('Saved best model:', best_key, '->', best_path)\n",
    "meta = {\n",
    "    'best_model': best_key,\n",
    "    'saved_at': datetime.datetime.now(datetime.timezone.utc).isoformat(),\n",
    "    'cv_top': results_df.head(1).to_dict(orient='records') if not results_df.empty else [],\n",
    "}\n",
    "(MODELS_DIR/'crop_best_model_meta.json').write_text(json.dumps(meta, indent=2))\n",
    "print('Saved best model metadata')"
   ]
  },
  {
   "cell_type": "code",
   "execution_count": 28,
   "id": "cfbb07a7",
   "metadata": {},
   "outputs": [
    {
     "name": "stdout",
     "output_type": "stream",
     "text": [
      "Best model has no direct importance; running permutation importance...\n",
      "Saved permutation importance to c:\\Users\\Snehal\\Agroassist-ML\\figures\\perm_importance_rf.png\n",
      "Saved permutation importance to c:\\Users\\Snehal\\Agroassist-ML\\figures\\perm_importance_rf.png\n"
     ]
    }
   ],
   "source": [
    "# 13) Feature importance and permutation importance\n",
    "def plot_top_importances(imp, feat_names, title, out_path, top_k=10):\n",
    "    s = pd.Series(imp, index=feat_names).sort_values(ascending=False).head(top_k)\n",
    "    ax = s[::-1].plot(kind='barh', figsize=(7,5))\n",
    "    ax.set_title(title)\n",
    "    plt.tight_layout()\n",
    "    plt.savefig(out_path)\n",
    "    plt.close()\n",
    "\n",
    "feat_names = list(X_train.columns)\n",
    "if hasattr(best_model, 'feature_importances_'):\n",
    "    out = FIGURES_DIR / f'importance_{best_key}.png'\n",
    "    plot_top_importances(best_model.feature_importances_, feat_names, f'Feature Importance: {best_key}', out)\n",
    "elif hasattr(best_model, 'coef_') and hasattr(best_model, 'classes_'):\n",
    "    imp = np.mean(np.abs(best_model.coef_), axis=0) if best_model.coef_.ndim>1 else np.abs(best_model.coef_)\n",
    "    out = FIGURES_DIR / f'importance_{best_key}.png'\n",
    "    plot_top_importances(imp, feat_names, f'Coefficients: {best_key}', out)\n",
    "else:\n",
    "    print('Best model has no direct importance; running permutation importance...')\n",
    "    pi = permutation_importance(best_model, X_test, y_test, n_repeats=10, random_state=RANDOM_STATE)\n",
    "    out = FIGURES_DIR / f'perm_importance_{best_key}.png'\n",
    "    plot_top_importances(pi.importances_mean, feat_names, f'Permutation Importance: {best_key}', out)\n",
    "    print('Saved permutation importance to', out)"
   ]
  },
  {
   "cell_type": "code",
   "execution_count": 29,
   "id": "c601b59b",
   "metadata": {},
   "outputs": [
    {
     "name": "stdout",
     "output_type": "stream",
     "text": [
      "Saved metrics CSV: c:\\Users\\Snehal\\Agroassist-ML\\figures\\crop_model_eval_metrics_1759654682.csv\n"
     ]
    }
   ],
   "source": [
    "# 14) Save consolidated metrics\n",
    "stamp = int(time.time())\n",
    "csv_path = FIGURES_DIR / f'crop_model_eval_metrics_{stamp}.csv'\n",
    "results_df.to_csv(csv_path, index=False)\n",
    "print('Saved metrics CSV:', csv_path)"
   ]
  },
  {
   "cell_type": "code",
   "execution_count": 30,
   "id": "a25e5d75",
   "metadata": {},
   "outputs": [
    {
     "name": "stdout",
     "output_type": "stream",
     "text": [
      "predict_crop ready. Example usage:\n",
      "predict_crop({'N':90,'P':42,'K':43,'temperature':20.8,'humidity':82,'ph':6.5,'rainfall':203}) -> 'rice'\n"
     ]
    }
   ],
   "source": [
    "# 15) Write src/predict_utils.py quick reference\n",
    "from src.predict_utils import predict_crop\n",
    "print('predict_crop ready. Example usage:')\n",
    "print(\"predict_crop({'N':90,'P':42,'K':43,'temperature':20.8,'humidity':82,'ph':6.5,'rainfall':203}) -> 'rice'\")"
   ]
  },
  {
   "cell_type": "code",
   "execution_count": 31,
   "id": "bfedf541",
   "metadata": {},
   "outputs": [
    {
     "name": "stdout",
     "output_type": "stream",
     "text": [
      "Smoke test prediction: kidneybeans\n"
     ]
    },
    {
     "name": "stderr",
     "output_type": "stream",
     "text": [
      "c:\\Users\\Snehal\\Agroassist-ML\\venv\\Lib\\site-packages\\sklearn\\utils\\validation.py:2742: UserWarning: X has feature names, but StandardScaler was fitted without feature names\n",
      "  warnings.warn(\n",
      "c:\\Users\\Snehal\\Agroassist-ML\\venv\\Lib\\site-packages\\sklearn\\utils\\validation.py:2749: UserWarning: X does not have valid feature names, but RandomForestClassifier was fitted with feature names\n",
      "  warnings.warn(\n"
     ]
    }
   ],
   "source": [
    "# 16) Smoke test predict_utils with a sample input\n",
    "sample = {'N':90,'P':42,'K':43,'temperature':21.0,'humidity':82.0,'ph':6.5,'rainfall':203.0}\n",
    "try:\n",
    "    pred = predict_crop(sample)\n",
    "    print('Smoke test prediction:', pred)\n",
    "except Exception as e:\n",
    "    print('Smoke test failed:', e)"
   ]
  },
  {
   "cell_type": "code",
   "execution_count": 32,
   "id": "cfd3059a",
   "metadata": {},
   "outputs": [
    {
     "name": "stdout",
     "output_type": "stream",
     "text": [
      "Saved aggregated metrics CSV: c:\\Users\\Snehal\\Agroassist-ML\\figures\\crop_model_eval_metrics.csv\n"
     ]
    }
   ],
   "source": [
    "# 17) Save aggregated results for Streamlit\n",
    "agg_csv = FIGURES_DIR / 'crop_model_eval_metrics.csv'\n",
    "results_df.to_csv(agg_csv, index=False)\n",
    "print('Saved aggregated metrics CSV:', agg_csv)"
   ]
  }
 ],
 "metadata": {
  "kernelspec": {
   "display_name": "venv (3.13.3)",
   "language": "python",
   "name": "python3"
  },
  "language_info": {
   "codemirror_mode": {
    "name": "ipython",
    "version": 3
   },
   "file_extension": ".py",
   "mimetype": "text/x-python",
   "name": "python",
   "nbconvert_exporter": "python",
   "pygments_lexer": "ipython3",
   "version": "3.13.3"
  }
 },
 "nbformat": 4,
 "nbformat_minor": 5
}
